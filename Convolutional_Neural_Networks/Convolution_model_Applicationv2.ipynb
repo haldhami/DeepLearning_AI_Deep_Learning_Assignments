{
 "cells": [
  {
   "cell_type": "markdown",
   "metadata": {},
   "source": [
    "# Convolutional Neural Networks: Application\n",
    "\n",
    "Welcome to Course 4's second assignment! In this notebook, you will:\n",
    "\n",
    "- Create a mood classifer using the TF Keras Sequential API\n",
    "- Build a ConvNet to identify sign language digits using the TF Keras Functional API\n",
    "\n",
    "**After this assignment you will be able to:**\n",
    "\n",
    "- Build and train a ConvNet in TensorFlow for a __binary__ classification problem\n",
    "- Build and train a ConvNet in TensorFlow for a __multiclass__ classification problem\n",
    "- Explain different use cases for the Sequential and Functional APIs\n",
    "\n",
    "To complete this assignment, you should already be familiar with TensorFlow. If you are not, please refer back to the **TensorFlow Tutorial** of the third week of Course 2 (\"**Improving deep neural networks**\")."
   ]
  },
  {
   "cell_type": "markdown",
   "metadata": {},
   "source": [
    "## Table of Contents\n",
    "\n",
    "- [1 - Packages](#1)\n",
    "    - [1.1 - Load the Data and Split the Data into Train/Test Sets](#1-1)\n",
    "- [2 - Layers in TF Keras](#2)\n",
    "- [3 - The Sequential API](#3)\n",
    "    - [3.1 - Create the Sequential Model](#3-1)\n",
    "        - [Exercise 1 - happyModel](#ex-1)\n",
    "    - [3.2 - Train and Evaluate the Model](#3-2)\n",
    "- [4 - The Functional API](#4)\n",
    "    - [4.1 - Load the SIGNS Dataset](#4-1)\n",
    "    - [4.2 - Split the Data into Train/Test Sets](#4-2)\n",
    "    - [4.3 - Forward Propagation](#4-3)\n",
    "        - [Exercise 2 - convolutional_model](#ex-2)\n",
    "    - [4.4 - Train the Model](#4-4)\n",
    "- [5 - History Object](#5)\n",
    "- [6 - Bibliography](#6)"
   ]
  },
  {
   "cell_type": "markdown",
   "metadata": {},
   "source": [
    "<a name='1'></a>\n",
    "## 1 - Packages\n",
    "\n",
    "As usual, begin by loading in the packages."
   ]
  },
  {
   "cell_type": "code",
   "execution_count": 78,
   "metadata": {},
   "outputs": [],
   "source": [
    "import math\n",
    "import numpy as np\n",
    "import h5py\n",
    "import matplotlib.pyplot as plt\n",
    "from matplotlib.pyplot import imread\n",
    "import scipy\n",
    "from PIL import Image\n",
    "import pandas as pd\n",
    "import tensorflow as tf\n",
    "import tensorflow.keras.layers as tfl\n",
    "from tensorflow.python.framework import ops\n",
    "from cnn_utils import *\n",
    "from test_utils import summary, comparator\n",
    "from tensorflow import keras\n",
    "\n",
    "%matplotlib inline\n",
    "np.random.seed(1)"
   ]
  },
  {
   "cell_type": "markdown",
   "metadata": {},
   "source": [
    "<a name='1-1'></a>\n",
    "### 1.1 - Load the Data and Split the Data into Train/Test Sets\n",
    "\n",
    "You'll be using the Happy House dataset for this part of the assignment, which contains images of peoples' faces. Your task will be to build a ConvNet that determines whether the people in the images are smiling or not -- because they only get to enter the house if they're smiling!  "
   ]
  },
  {
   "cell_type": "code",
   "execution_count": 79,
   "metadata": {},
   "outputs": [
    {
     "name": "stdout",
     "output_type": "stream",
     "text": [
      "number of training examples = 600\n",
      "number of test examples = 150\n",
      "X_train shape: (600, 64, 64, 3)\n",
      "Y_train shape: (600, 1)\n",
      "X_test shape: (150, 64, 64, 3)\n",
      "Y_test shape: (150, 1)\n"
     ]
    }
   ],
   "source": [
    "X_train_orig, Y_train_orig, X_test_orig, Y_test_orig, classes = load_happy_dataset()\n",
    "\n",
    "# Normalize image vectors\n",
    "X_train = X_train_orig/255.\n",
    "X_test = X_test_orig/255.\n",
    "\n",
    "# Reshape\n",
    "Y_train = Y_train_orig.T\n",
    "Y_test = Y_test_orig.T\n",
    "\n",
    "print (\"number of training examples = \" + str(X_train.shape[0]))\n",
    "print (\"number of test examples = \" + str(X_test.shape[0]))\n",
    "print (\"X_train shape: \" + str(X_train.shape))\n",
    "print (\"Y_train shape: \" + str(Y_train.shape))\n",
    "print (\"X_test shape: \" + str(X_test.shape))\n",
    "print (\"Y_test shape: \" + str(Y_test.shape))"
   ]
  },
  {
   "cell_type": "markdown",
   "metadata": {},
   "source": [
    "You can display the images contained in the dataset. Images are **64x64** pixels in RGB format (3 channels)."
   ]
  },
  {
   "cell_type": "code",
   "execution_count": 80,
   "metadata": {},
   "outputs": [
    {
     "data": {
      "image/png": "[encoded data removed]",
      "text/plain": [
       "<Figure size 432x288 with 1 Axes>"
      ]
     },
     "metadata": {
      "needs_background": "light"
     },
     "output_type": "display_data"
    }
   ],
   "source": [
    "index = 124\n",
    "plt.imshow(X_train_orig[index]) #display sample training image\n",
    "plt.show()"
   ]
  },
  {
   "cell_type": "markdown",
   "metadata": {},
   "source": [
    "<a name='2'></a>\n",
    "## 2 - Layers in TF Keras \n",
    "\n",
    "In the previous assignment, you created layers manually in numpy. In TF Keras, you don't have to write code directly to create layers. Rather, TF Keras has pre-defined layers you can use. \n",
    "\n",
    "When you create a layer in TF Keras, you are creating a function that takes some input and transforms it into an output you can reuse later. Nice and easy! "
   ]
  },
  {
   "cell_type": "markdown",
   "metadata": {},
   "source": [
    "<a name='3'></a>\n",
    "## 3 - The Sequential API\n",
    "\n",
    "In the previous assignment, you built helper functions using `numpy` to understand the mechanics behind convolutional neural networks. Most practical applications of deep learning today are built using programming frameworks, which have many built-in functions you can simply call. Keras is a high-level abstraction built on top of TensorFlow, which allows for even more simplified and optimized model creation and training. \n",
    "\n",
    "For the first part of this assignment, you'll create a model using TF Keras' Sequential API, which allows you to build layer by layer, and is ideal for building models where each layer has **exactly one** input tensor and **one** output tensor. \n",
    "\n",
    "As you'll see, using the Sequential API is simple and straightforward, but is only appropriate for simpler, more straightforward tasks. Later in this notebook you'll spend some time building with a more flexible, powerful alternative: the Functional API. \n",
    " "
   ]
  },
  {
   "cell_type": "markdown",
   "metadata": {},
   "source": [
    "<a name='3-1'></a>\n",
    "### 3.1 - Create the Sequential Model\n",
    "\n",
    "As mentioned earlier, the TensorFlow Keras Sequential API can be used to build simple models with layer operations that proceed in a sequential order. \n",
    "\n",
    "You can also add layers incrementally to a Sequential model with the `.add()` method, or remove them using the `.pop()` method, much like you would in a regular Python list.\n",
    "\n",
    "Actually, you can think of a Sequential model as behaving like a list of layers. Like Python lists, Sequential layers are ordered, and the order in which they are specified matters.  If your model is non-linear or contains layers with multiple inputs or outputs, a Sequential model wouldn't be the right choice!\n",
    "\n",
    "For any layer construction in Keras, you'll need to specify the input shape in advance. This is because in Keras, the shape of the weights is based on the shape of the inputs. The weights are only created when the model first sees some input data. Sequential models can be created by passing a list of layers to the Sequential constructor, like you will do in the next assignment.\n",
    "\n",
    "<a name='ex-1'></a>\n",
    "### Exercise 1 - happyModel\n",
    "\n",
    "Implement the `happyModel` function below to build the following model: `ZEROPAD2D -> CONV2D -> BATCHNORM -> RELU -> MAXPOOL -> FLATTEN -> DENSE`. Take help from [tf.keras.layers](https://www.tensorflow.org/api_docs/python/tf/keras/layers) \n",
    "\n",
    "Also, plug in the following parameters for all the steps:\n",
    "\n",
    " - [ZeroPadding2D](https://www.tensorflow.org/api_docs/python/tf/keras/layers/ZeroPadding2D): padding 3, input shape 64 x 64 x 3\n",
    " - [Conv2D](https://www.tensorflow.org/api_docs/python/tf/keras/layers/Conv2D): Use 32 7x7 filters, stride 1\n",
    " - [BatchNormalization](https://www.tensorflow.org/api_docs/python/tf/keras/layers/BatchNormalization): for axis 3\n",
    " - [ReLU](https://www.tensorflow.org/api_docs/python/tf/keras/layers/ReLU)\n",
    " - [MaxPool2D](https://www.tensorflow.org/api_docs/python/tf/keras/layers/MaxPool2D): Using default parameters\n",
    " - [Flatten](https://www.tensorflow.org/api_docs/python/tf/keras/layers/Flatten) the previous output.\n",
    " - Fully-connected ([Dense](https://www.tensorflow.org/api_docs/python/tf/keras/layers/Dense)) layer: Apply a fully connected layer with 1 neuron and a sigmoid activation. \n",
    " \n",
    " \n",
    " **Hint:**\n",
    " \n",
    " Use **tfl** as shorthand for **tensorflow.keras.layers**"
   ]
  },
  {
   "cell_type": "code",
   "execution_count": 81,
   "metadata": {
    "deletable": false,
    "nbgrader": {
     "cell_type": "code",
     "checksum": "95d28b191f257bdd5b70c7b8952559d5",
     "grade": false,
     "grade_id": "cell-0e56d3fc28b69aec",
     "locked": false,
     "schema_version": 3,
     "solution": true,
     "task": false
    }
   },
   "outputs": [],
   "source": [
    "# GRADED FUNCTION: happyModel\n",
    "\n",
    "def happyModel():\n",
    "    \"\"\"\n",
    "    Implements the forward propagation for the binary classification model:\n",
    "    ZEROPAD2D -> CONV2D -> BATCHNORM -> RELU -> MAXPOOL -> FLATTEN -> DENSE\n",
    "    \n",
    "    Note that for simplicity and grading purposes, you'll hard-code all the values\n",
    "    such as the stride and kernel (filter) sizes. \n",
    "    Normally, functions should take these values as function parameters.\n",
    "    \n",
    "    Arguments:\n",
    "    None\n",
    "\n",
    "    Returns:\n",
    "    model -- TF Keras model (object containing the information for the entire training process) \n",
    "    \"\"\"\n",
    "#     input_shape = (1, 64, 64, 3)\n",
    "#     x = tf.random.normal(input_shape)\n",
    "    model = tf.keras.Sequential([\n",
    "            ## ZeroPadding2D with padding 3, input shape of 64 x 64 x 3\n",
    "            \n",
    "            ## Conv2D with 32 7x7 filters and stride of 1\n",
    "            \n",
    "            ## BatchNormalization for axis 3\n",
    "            \n",
    "            ## ReLU\n",
    "            \n",
    "            ## Max Pooling 2D with default parameters\n",
    "            \n",
    "            ## Flatten layer\n",
    "            \n",
    "            ## Dense layer with 1 unit for output & 'sigmoid' activation\n",
    "            \n",
    "            # YOUR CODE STARTS HERE\n",
    "        tf.keras.Input(shape=(64, 64, 3)),\n",
    "        tfl.ZeroPadding2D(padding=(3, 3)),\n",
    "        tfl.Conv2D(filters=32, kernel_size=7, strides=1),\n",
    "        tfl.BatchNormalization(axis=3),\n",
    "        tfl.ReLU(),\n",
    "        tfl.MaxPooling2D(),\n",
    "        tfl.Flatten(),\n",
    "        tfl.Dense(1, activation='sigmoid'),\n",
    "            \n",
    "            # YOUR CODE ENDS HERE\n",
    "        ])\n",
    "    \n",
    "    return model"
   ]
  },
  {
   "cell_type": "code",
   "execution_count": 82,
   "metadata": {
    "deletable": false,
    "editable": false,
    "nbgrader": {
     "cell_type": "code",
     "checksum": "8d3575c950e2e78149be2d05d671c80d",
     "grade": true,
     "grade_id": "cell-e3e1046e5c33d775",
     "locked": true,
     "points": 10,
     "schema_version": 3,
     "solution": false,
     "task": false
    }
   },
   "outputs": [
    {
     "name": "stdout",
     "output_type": "stream",
     "text": [
      "['ZeroPadding2D', (None, 70, 70, 3), 0, ((3, 3), (3, 3))]\n",
      "['Conv2D', (None, 64, 64, 32), 4736, 'valid', 'linear', 'GlorotUniform']\n",
      "['BatchNormalization', (None, 64, 64, 32), 128]\n",
      "['ReLU', (None, 64, 64, 32), 0]\n",
      "['MaxPooling2D', (None, 32, 32, 32), 0, (2, 2), (2, 2), 'valid']\n",
      "['Flatten', (None, 32768), 0]\n",
      "['Dense', (None, 1), 32769, 'sigmoid']\n",
      "\u001b[32mAll tests passed!\u001b[0m\n"
     ]
    }
   ],
   "source": [
    "happy_model = happyModel()\n",
    "# Print a summary for each layer\n",
    "for layer in summary(happy_model):\n",
    "    print(layer)\n",
    "    \n",
    "output = [['ZeroPadding2D', (None, 70, 70, 3), 0, ((3, 3), (3, 3))],\n",
    "            ['Conv2D', (None, 64, 64, 32), 4736, 'valid', 'linear', 'GlorotUniform'],\n",
    "            ['BatchNormalization', (None, 64, 64, 32), 128],\n",
    "            ['ReLU', (None, 64, 64, 32), 0],\n",
    "            ['MaxPooling2D', (None, 32, 32, 32), 0, (2, 2), (2, 2), 'valid'],\n",
    "            ['Flatten', (None, 32768), 0],\n",
    "            ['Dense', (None, 1), 32769, 'sigmoid']]\n",
    "    \n",
    "comparator(summary(happy_model), output)"
   ]
  },
  {
   "cell_type": "markdown",
   "metadata": {},
   "source": [
    "Now that your model is created, you can compile it for training with an optimizer and loss of your choice. When the string `accuracy` is specified as a metric, the type of accuracy used will be automatically converted based on the loss function used. This is one of the many optimizations built into TensorFlow that make your life easier! If you'd like to read more on how the compiler operates, check the docs [here](https://www.tensorflow.org/api_docs/python/tf/keras/Model#compile)."
   ]
  },
  {
   "cell_type": "code",
   "execution_count": 83,
   "metadata": {},
   "outputs": [],
   "source": [
    "happy_model.compile(optimizer='adam',\n",
    "                   loss='binary_crossentropy',\n",
    "                   metrics=['accuracy'])"
   ]
  },
  {
   "cell_type": "markdown",
   "metadata": {},
   "source": [
    "It's time to check your model's parameters with the `.summary()` method. This will display the types of layers you have, the shape of the outputs, and how many parameters are in each layer. "
   ]
  },
  {
   "cell_type": "code",
   "execution_count": 84,
   "metadata": {},
   "outputs": [
    {
     "name": "stdout",
     "output_type": "stream",
     "text": [
      "Model: \"sequential_6\"\n",
      "_________________________________________________________________\n",
      "Layer (type)                 Output Shape              Param #   \n",
      "=================================================================\n",
      "zero_padding2d_17 (ZeroPaddi (None, 70, 70, 3)         0         \n",
      "_________________________________________________________________\n",
      "conv2d_19 (Conv2D)           (None, 64, 64, 32)        4736      \n",
      "_________________________________________________________________\n",
      "batch_normalization_7 (Batch (None, 64, 64, 32)        128       \n",
      "_________________________________________________________________\n",
      "re_lu_19 (ReLU)              (None, 64, 64, 32)        0         \n",
      "_________________________________________________________________\n",
      "max_pooling2d_19 (MaxPooling (None, 32, 32, 32)        0         \n",
      "_________________________________________________________________\n",
      "flatten_13 (Flatten)         (None, 32768)             0         \n",
      "_________________________________________________________________\n",
      "dense_12 (Dense)             (None, 1)                 32769     \n",
      "=================================================================\n",
      "Total params: 37,633\n",
      "Trainable params: 37,569\n",
      "Non-trainable params: 64\n",
      "_________________________________________________________________\n"
     ]
    }
   ],
   "source": [
    "happy_model.summary()"
   ]
  },
  {
   "cell_type": "markdown",
   "metadata": {},
   "source": [
    "<a name='3-2'></a>\n",
    "### 3.2 - Train and Evaluate the Model\n",
    "\n",
    "After creating the model, compiling it with your choice of optimizer and loss function, and doing a sanity check on its contents, you are now ready to build! \n",
    "\n",
    "Simply call `.fit()` to train. That's it! No need for mini-batching, saving, or complex backpropagation computations. That's all been done for you, as you're using a TensorFlow dataset with the batches specified already. You do have the option to specify epoch number or minibatch size if you like (for example, in the case of an un-batched dataset)."
   ]
  },
  {
   "cell_type": "code",
   "execution_count": 85,
   "metadata": {},
   "outputs": [
    {
     "name": "stdout",
     "output_type": "stream",
     "text": [
      "Epoch 1/10\n",
      "38/38 [==============================] - 4s 100ms/step - loss: 1.2039 - accuracy: 0.7133\n",
      "Epoch 2/10\n",
      "38/38 [==============================] - 4s 98ms/step - loss: 0.2467 - accuracy: 0.9050\n",
      "Epoch 3/10\n",
      "38/38 [==============================] - 4s 95ms/step - loss: 0.1864 - accuracy: 0.9300\n",
      "Epoch 4/10\n",
      "38/38 [==============================] - 4s 100ms/step - loss: 0.1315 - accuracy: 0.9450\n",
      "Epoch 5/10\n",
      "38/38 [==============================] - 4s 97ms/step - loss: 0.1704 - accuracy: 0.9350\n",
      "Epoch 6/10\n",
      "38/38 [==============================] - 4s 95ms/step - loss: 0.0857 - accuracy: 0.9633\n",
      "Epoch 7/10\n",
      "38/38 [==============================] - 4s 97ms/step - loss: 0.1417 - accuracy: 0.9467\n",
      "Epoch 8/10\n",
      "38/38 [==============================] - 4s 97ms/step - loss: 0.1061 - accuracy: 0.9633\n",
      "Epoch 9/10\n",
      "38/38 [==============================] - 4s 98ms/step - loss: 0.0628 - accuracy: 0.9750\n",
      "Epoch 10/10\n",
      "38/38 [==============================] - 4s 95ms/step - loss: 0.0376 - accuracy: 0.9867\n"
     ]
    },
    {
     "data": {
      "text/plain": [
       "<tensorflow.python.keras.callbacks.History at 0x7f2b81fcc050>"
      ]
     },
     "execution_count": 85,
     "metadata": {},
     "output_type": "execute_result"
    }
   ],
   "source": [
    "happy_model.fit(X_train, Y_train, epochs=10, batch_size=16)"
   ]
  },
  {
   "cell_type": "markdown",
   "metadata": {},
   "source": [
    "After that completes, just use `.evaluate()` to evaluate against your test set. This function will print the value of the loss function and the performance metrics specified during the compilation of the model. In this case, the `binary_crossentropy` and the `accuracy` respectively."
   ]
  },
  {
   "cell_type": "code",
   "execution_count": 86,
   "metadata": {},
   "outputs": [
    {
     "name": "stdout",
     "output_type": "stream",
     "text": [
      "5/5 [==============================] - 0s 25ms/step - loss: 0.2267 - accuracy: 0.8933\n"
     ]
    },
    {
     "data": {
      "text/plain": [
       "[0.22667160630226135, 0.8933333158493042]"
      ]
     },
     "execution_count": 86,
     "metadata": {},
     "output_type": "execute_result"
    }
   ],
   "source": [
    "happy_model.evaluate(X_test, Y_test)"
   ]
  },
  {
   "cell_type": "markdown",
   "metadata": {},
   "source": [
    "Easy, right? But what if you need to build a model with shared layers, branches, or multiple inputs and outputs? This is where Sequential, with its beautifully simple yet limited functionality, won't be able to help you. \n",
    "\n",
    "Next up: Enter the Functional API, your slightly more complex, highly flexible friend.  "
   ]
  },
  {
   "cell_type": "markdown",
   "metadata": {},
   "source": [
    "<a name='4'></a>\n",
    "## 4 - The Functional API"
   ]
  },
  {
   "cell_type": "markdown",
   "metadata": {},
   "source": [
    "Welcome to the second half of the assignment, where you'll use Keras' flexible [Functional API](https://www.tensorflow.org/guide/keras/functional) to build a ConvNet that can differentiate between 6 sign language digits. \n",
    "\n",
    "The Functional API can handle models with non-linear topology, shared layers, as well as layers with multiple inputs or outputs. Imagine that, where the Sequential API requires the model to move in a linear fashion through its layers, the Functional API allows much more flexibility. Where Sequential is a straight line, a Functional model is a graph, where the nodes of the layers can connect in many more ways than one. \n",
    "\n",
    "In the visual example below, the one possible direction of the movement Sequential model is shown in contrast to a skip connection, which is just one of the many ways a Functional model can be constructed. A skip connection, as you might have guessed, skips some layer in the network and feeds the output to a later layer in the network. Don't worry, you'll be spending more time with skip connections very soon! "
   ]
  },
  {
   "cell_type": "markdown",
   "metadata": {},
   "source": [
    "<img src=\"images/seq_vs_func.png\" style=\"width:350px;height:200px;\">"
   ]
  },
  {
   "cell_type": "markdown",
   "metadata": {},
   "source": [
    "<a name='4-1'></a>\n",
    "### 4.1 - Load the SIGNS Dataset\n",
    "\n",
    "As a reminder, the SIGNS dataset is a collection of 6 signs representing numbers from 0 to 5."
   ]
  },
  {
   "cell_type": "code",
   "execution_count": 57,
   "metadata": {},
   "outputs": [],
   "source": [
    "# Loading the data (signs)\n",
    "X_train_orig, Y_train_orig, X_test_orig, Y_test_orig, classes = load_signs_dataset()"
   ]
  },
  {
   "cell_type": "markdown",
   "metadata": {},
   "source": [
    "<img src=\"images/SIGNS.png\" style=\"width:800px;height:300px;\">\n",
    "\n",
    "The next cell will show you an example of a labelled image in the dataset. Feel free to change the value of `index` below and re-run to see different examples. "
   ]
  },
  {
   "cell_type": "code",
   "execution_count": 87,
   "metadata": {},
   "outputs": [
    {
     "name": "stdout",
     "output_type": "stream",
     "text": [
      "y = 1\n"
     ]
    },
    {
     "data": {
      "image/png": "[encoded data removed]",
      "text/plain": [
       "<Figure size 432x288 with 1 Axes>"
      ]
     },
     "metadata": {
      "needs_background": "light"
     },
     "output_type": "display_data"
    }
   ],
   "source": [
    "# Example of an image from the dataset\n",
    "index = 9\n",
    "plt.imshow(X_train_orig[index])\n",
    "print (\"y = \" + str(np.squeeze(Y_train_orig[:, index])))"
   ]
  },
  {
   "cell_type": "markdown",
   "metadata": {},
   "source": [
    "<a name='4-2'></a>\n",
    "### 4.2 - Split the Data into Train/Test Sets\n",
    "\n",
    "In Course 2, you built a fully-connected network for this dataset. But since this is an image dataset, it is more natural to apply a ConvNet to it.\n",
    "\n",
    "To get started, let's examine the shapes of your data. "
   ]
  },
  {
   "cell_type": "code",
   "execution_count": 88,
   "metadata": {},
   "outputs": [
    {
     "name": "stdout",
     "output_type": "stream",
     "text": [
      "number of training examples = 600\n",
      "number of test examples = 150\n",
      "X_train shape: (600, 64, 64, 3)\n",
      "Y_train shape: (600, 6)\n",
      "X_test shape: (150, 64, 64, 3)\n",
      "Y_test shape: (150, 6)\n"
     ]
    }
   ],
   "source": [
    "X_train = X_train_orig/255.\n",
    "X_test = X_test_orig/255.\n",
    "Y_train = convert_to_one_hot(Y_train_orig, 6).T\n",
    "Y_test = convert_to_one_hot(Y_test_orig, 6).T\n",
    "print (\"number of training examples = \" + str(X_train.shape[0]))\n",
    "print (\"number of test examples = \" + str(X_test.shape[0]))\n",
    "print (\"X_train shape: \" + str(X_train.shape))\n",
    "print (\"Y_train shape: \" + str(Y_train.shape))\n",
    "print (\"X_test shape: \" + str(X_test.shape))\n",
    "print (\"Y_test shape: \" + str(Y_test.shape))"
   ]
  },
  {
   "cell_type": "markdown",
   "metadata": {},
   "source": [
    "<a name='4-3'></a>\n",
    "### 4.3 - Forward Propagation\n",
    "\n",
    "In TensorFlow, there are built-in functions that implement the convolution steps for you. By now, you should be familiar with how TensorFlow builds computational graphs. In the [Functional API](https://www.tensorflow.org/guide/keras/functional), you create a graph of layers. This is what allows such great flexibility.\n",
    "\n",
    "However, the following model could also be defined using the Sequential API since the information flow is on a single line. But don't deviate. What we want you to learn is to use the functional API.\n",
    "\n",
    "Begin building your graph of layers by creating an input node that functions as a callable object:\n",
    "\n",
    "- **input_img = tf.keras.Input(shape=input_shape):** \n",
    "\n",
    "Then, create a new node in the graph of layers by calling a layer on the `input_img` object: \n",
    "\n",
    "- **tf.keras.layers.Conv2D(filters= ... , kernel_size= ... , padding='same')(input_img):** Read the full documentation on [Conv2D](https://www.tensorflow.org/api_docs/python/tf/keras/layers/Conv2D).\n",
    "\n",
    "- **tf.keras.layers.MaxPool2D(pool_size=(f, f), strides=(s, s), padding='same'):** `MaxPool2D()` downsamples your input using a window of size (f, f) and strides of size (s, s) to carry out max pooling over each window.  For max pooling, you usually operate on a single example at a time and a single channel at a time. Read the full documentation on [MaxPool2D](https://www.tensorflow.org/api_docs/python/tf/keras/layers/MaxPool2D).\n",
    "\n",
    "- **tf.keras.layers.ReLU():** computes the elementwise ReLU of Z (which can be any shape). You can read the full documentation on [ReLU](https://www.tensorflow.org/api_docs/python/tf/keras/layers/ReLU).\n",
    "\n",
    "- **tf.keras.layers.Flatten()**: given a tensor \"P\", this function takes each training (or test) example in the batch and flattens it into a 1D vector.  \n",
    "\n",
    "    * If a tensor P has the shape (batch_size,h,w,c), it returns a flattened tensor with shape (batch_size, k), where $k=h \\times w \\times c$.  \"k\" equals the product of all the dimension sizes other than the first dimension.\n",
    "    \n",
    "    * For example, given a tensor with dimensions [100, 2, 3, 4], it flattens the tensor to be of shape [100, 24], where 24 = 2 * 3 * 4.  You can read the full documentation on [Flatten](https://www.tensorflow.org/api_docs/python/tf/keras/layers/Flatten).\n",
    "\n",
    "- **tf.keras.layers.Dense(units= ... , activation='softmax')(F):** given the flattened input F, it returns the output computed using a fully connected layer. You can read the full documentation on [Dense](https://www.tensorflow.org/api_docs/python/tf/keras/layers/Dense).\n",
    "\n",
    "In the last function above (`tf.keras.layers.Dense()`), the fully connected layer automatically initializes weights in the graph and keeps on training them as you train the model. Hence, you did not need to initialize those weights when initializing the parameters.\n",
    "\n",
    "Lastly, before creating the model, you'll need to define the output using the last of the function's compositions (in this example, a Dense layer): \n",
    "\n",
    "- **outputs = tf.keras.layers.Dense(units=6, activation='softmax')(F)**\n",
    "\n",
    "\n",
    "#### Window, kernel, filter, pool\n",
    "\n",
    "The words \"kernel\" and \"filter\" are used to refer to the same thing. The word \"filter\" accounts for the amount of \"kernels\" that will be used in a single convolution layer. \"Pool\" is the name of the operation that takes the max or average value of the kernels. \n",
    "\n",
    "This is why the parameter `pool_size` refers to `kernel_size`, and you use `(f,f)` to refer to the filter size. \n",
    "\n",
    "Pool size and kernel size refer to the same thing in different objects - They refer to the shape of the window where the operation takes place. "
   ]
  },
  {
   "cell_type": "markdown",
   "metadata": {},
   "source": [
    "<a name='ex-2'></a>\n",
    "### Exercise 2 - convolutional_model\n",
    "\n",
    "Implement the `convolutional_model` function below to build the following model: `CONV2D -> RELU -> MAXPOOL -> CONV2D -> RELU -> MAXPOOL -> FLATTEN -> DENSE`. Use the functions above! \n",
    "\n",
    "Also, plug in the following parameters for all the steps:\n",
    "\n",
    " - [Conv2D](https://www.tensorflow.org/api_docs/python/tf/keras/layers/Conv2D): Use 8 4 by 4 filters, stride 1, padding is \"SAME\"\n",
    " - [ReLU](https://www.tensorflow.org/api_docs/python/tf/keras/layers/ReLU)\n",
    " - [MaxPool2D](https://www.tensorflow.org/api_docs/python/tf/keras/layers/MaxPool2D): Use an 8 by 8 filter size and an 8 by 8 stride, padding is \"SAME\"\n",
    " - **Conv2D**: Use 16 2 by 2 filters, stride 1, padding is \"SAME\"\n",
    " - **ReLU**\n",
    " - **MaxPool2D**: Use a 4 by 4 filter size and a 4 by 4 stride, padding is \"SAME\"\n",
    " - [Flatten](https://www.tensorflow.org/api_docs/python/tf/keras/layers/Flatten) the previous output.\n",
    " - Fully-connected ([Dense](https://www.tensorflow.org/api_docs/python/tf/keras/layers/Dense)) layer: Apply a fully connected layer with 6 neurons and a softmax activation. "
   ]
  },
  {
   "cell_type": "code",
   "execution_count": 89,
   "metadata": {
    "deletable": false,
    "nbgrader": {
     "cell_type": "code",
     "checksum": "f58643806aa8380c96225fc8b4c5e7aa",
     "grade": false,
     "grade_id": "cell-dac51744a9e03f51",
     "locked": false,
     "schema_version": 3,
     "solution": true,
     "task": false
    }
   },
   "outputs": [],
   "source": [
    "# GRADED FUNCTION: convolutional_model\n",
    "\n",
    "def convolutional_model(input_shape):\n",
    "    \"\"\"\n",
    "    Implements the forward propagation for the model:\n",
    "    CONV2D -> RELU -> MAXPOOL -> CONV2D -> RELU -> MAXPOOL -> FLATTEN -> DENSE\n",
    "    \n",
    "    Note that for simplicity and grading purposes, you'll hard-code some values\n",
    "    such as the stride and kernel (filter) sizes. \n",
    "    Normally, functions should take these values as function parameters.\n",
    "    \n",
    "    Arguments:\n",
    "    input_img -- input dataset, of shape (input_shape)\n",
    "\n",
    "    Returns:\n",
    "    model -- TF Keras model (object containing the information for the entire training process) \n",
    "    \"\"\"\n",
    "\n",
    "    input_img = tf.keras.Input(shape=input_shape)\n",
    "    ## CONV2D: 8 filters 4x4, stride of 1, padding 'SAME'\n",
    "    # Z1 = None\n",
    "    ## RELU\n",
    "    # A1 = None\n",
    "    ## MAXPOOL: window 8x8, stride 8, padding 'SAME'\n",
    "    # P1 = None\n",
    "    ## CONV2D: 16 filters 2x2, stride 1, padding 'SAME'\n",
    "    # Z2 = None\n",
    "    ## RELU\n",
    "    # A2 = None\n",
    "    ## MAXPOOL: window 4x4, stride 4, padding 'SAME'\n",
    "    # P2 = None\n",
    "    ## FLATTEN\n",
    "    # F = None\n",
    "    ## Dense layer\n",
    "    ## 6 neurons in output layer. Hint: one of the arguments should be \"activation='softmax'\" \n",
    "    # outputs = None\n",
    "    # YOUR CODE STARTS HERE\n",
    "    Z1 = tfl.Conv2D(filters=8, kernel_size=4, strides=1, padding='same')(input_img)\n",
    "    A1 = tfl.ReLU()(Z1)\n",
    "    P1 = tfl.MaxPool2D(pool_size=8, strides=8, padding='same')(A1)\n",
    "    Z2 = tfl.Conv2D(filters=16, kernel_size=2, strides=1, padding='same')(P1)\n",
    "    A2 = tfl.ReLU()(Z2)\n",
    "    P2 = tfl.MaxPool2D(pool_size=4, strides=4, padding='same')(A2)\n",
    "    F = tfl.Flatten()(P2)\n",
    "    outputs = tfl.Dense(6, activation='softmax')(F)\n",
    "    # YOUR CODE ENDS HERE\n",
    "    model = tf.keras.Model(inputs=input_img, outputs=outputs)\n",
    "    return model"
   ]
  },
  {
   "cell_type": "code",
   "execution_count": 90,
   "metadata": {
    "deletable": false,
    "editable": false,
    "nbgrader": {
     "cell_type": "code",
     "checksum": "483d626949930a0b0ef20997e7c6ba72",
     "grade": true,
     "grade_id": "cell-45d22e92042174c9",
     "locked": true,
     "points": 10,
     "schema_version": 3,
     "solution": false,
     "task": false
    }
   },
   "outputs": [
    {
     "name": "stdout",
     "output_type": "stream",
     "text": [
      "Model: \"functional_8\"\n",
      "_________________________________________________________________\n",
      "Layer (type)                 Output Shape              Param #   \n",
      "=================================================================\n",
      "input_11 (InputLayer)        [(None, 64, 64, 3)]       0         \n",
      "_________________________________________________________________\n",
      "conv2d_20 (Conv2D)           (None, 64, 64, 8)         392       \n",
      "_________________________________________________________________\n",
      "re_lu_20 (ReLU)              (None, 64, 64, 8)         0         \n",
      "_________________________________________________________________\n",
      "max_pooling2d_20 (MaxPooling (None, 8, 8, 8)           0         \n",
      "_________________________________________________________________\n",
      "conv2d_21 (Conv2D)           (None, 8, 8, 16)          528       \n",
      "_________________________________________________________________\n",
      "re_lu_21 (ReLU)              (None, 8, 8, 16)          0         \n",
      "_________________________________________________________________\n",
      "max_pooling2d_21 (MaxPooling (None, 2, 2, 16)          0         \n",
      "_________________________________________________________________\n",
      "flatten_14 (Flatten)         (None, 64)                0         \n",
      "_________________________________________________________________\n",
      "dense_13 (Dense)             (None, 6)                 390       \n",
      "=================================================================\n",
      "Total params: 1,310\n",
      "Trainable params: 1,310\n",
      "Non-trainable params: 0\n",
      "_________________________________________________________________\n",
      "\u001b[32mAll tests passed!\u001b[0m\n"
     ]
    }
   ],
   "source": [
    "conv_model = convolutional_model((64, 64, 3))\n",
    "conv_model.compile(optimizer='adam',\n",
    "                  loss='categorical_crossentropy',\n",
    "                  metrics=['accuracy'])\n",
    "conv_model.summary()\n",
    "    \n",
    "output = [['InputLayer', [(None, 64, 64, 3)], 0],\n",
    "        ['Conv2D', (None, 64, 64, 8), 392, 'same', 'linear', 'GlorotUniform'],\n",
    "        ['ReLU', (None, 64, 64, 8), 0],\n",
    "        ['MaxPooling2D', (None, 8, 8, 8), 0, (8, 8), (8, 8), 'same'],\n",
    "        ['Conv2D', (None, 8, 8, 16), 528, 'same', 'linear', 'GlorotUniform'],\n",
    "        ['ReLU', (None, 8, 8, 16), 0],\n",
    "        ['MaxPooling2D', (None, 2, 2, 16), 0, (4, 4), (4, 4), 'same'],\n",
    "        ['Flatten', (None, 64), 0],\n",
    "        ['Dense', (None, 6), 390, 'softmax']]\n",
    "    \n",
    "comparator(summary(conv_model), output)"
   ]
  },
  {
   "cell_type": "markdown",
   "metadata": {},
   "source": [
    "Both the Sequential and Functional APIs return a TF Keras model object. The only difference is how inputs are handled inside the object model! "
   ]
  },
  {
   "cell_type": "markdown",
   "metadata": {},
   "source": [
    "<a name='4-4'></a>\n",
    "### 4.4 - Train the Model"
   ]
  },
  {
   "cell_type": "code",
   "execution_count": 92,
   "metadata": {},
   "outputs": [
    {
     "name": "stdout",
     "output_type": "stream",
     "text": [
      "Epoch 1/100\n",
      "10/10 [==============================] - 1s 110ms/step - loss: 3.4938 - accuracy: 0.0000e+00 - val_loss: 2.4874 - val_accuracy: 0.0000e+00\n",
      "Epoch 2/100\n",
      "10/10 [==============================] - 1s 100ms/step - loss: 2.1147 - accuracy: 0.0000e+00 - val_loss: 1.6565 - val_accuracy: 0.0000e+00\n",
      "Epoch 3/100\n",
      "10/10 [==============================] - 1s 109ms/step - loss: 1.4778 - accuracy: 0.2800 - val_loss: 1.2215 - val_accuracy: 0.5600\n",
      "Epoch 4/100\n",
      "10/10 [==============================] - 1s 101ms/step - loss: 1.1201 - accuracy: 0.5000 - val_loss: 0.9273 - val_accuracy: 0.5600\n",
      "Epoch 5/100\n",
      "10/10 [==============================] - 1s 109ms/step - loss: 0.8833 - accuracy: 0.5000 - val_loss: 0.7522 - val_accuracy: 0.5600\n",
      "Epoch 6/100\n",
      "10/10 [==============================] - 1s 100ms/step - loss: 0.7431 - accuracy: 0.5233 - val_loss: 0.7036 - val_accuracy: 0.6067\n",
      "Epoch 7/100\n",
      "10/10 [==============================] - 1s 100ms/step - loss: 0.7082 - accuracy: 0.4833 - val_loss: 0.6943 - val_accuracy: 0.5067\n",
      "Epoch 8/100\n",
      "10/10 [==============================] - 1s 110ms/step - loss: 0.6984 - accuracy: 0.5033 - val_loss: 0.6713 - val_accuracy: 0.6467\n",
      "Epoch 9/100\n",
      "10/10 [==============================] - 1s 101ms/step - loss: 0.6902 - accuracy: 0.5467 - val_loss: 0.6687 - val_accuracy: 0.6067\n",
      "Epoch 10/100\n",
      "10/10 [==============================] - 1s 109ms/step - loss: 0.6850 - accuracy: 0.5267 - val_loss: 0.6661 - val_accuracy: 0.6000\n",
      "Epoch 11/100\n",
      "10/10 [==============================] - 1s 109ms/step - loss: 0.6815 - accuracy: 0.5400 - val_loss: 0.6597 - val_accuracy: 0.6200\n",
      "Epoch 12/100\n",
      "10/10 [==============================] - 1s 101ms/step - loss: 0.6770 - accuracy: 0.5583 - val_loss: 0.6575 - val_accuracy: 0.6267\n",
      "Epoch 13/100\n",
      "10/10 [==============================] - 1s 110ms/step - loss: 0.6728 - accuracy: 0.5567 - val_loss: 0.6538 - val_accuracy: 0.6400\n",
      "Epoch 14/100\n",
      "10/10 [==============================] - 1s 100ms/step - loss: 0.6683 - accuracy: 0.5767 - val_loss: 0.6497 - val_accuracy: 0.6400\n",
      "Epoch 15/100\n",
      "10/10 [==============================] - 1s 100ms/step - loss: 0.6630 - accuracy: 0.5833 - val_loss: 0.6449 - val_accuracy: 0.6400\n",
      "Epoch 16/100\n",
      "10/10 [==============================] - 1s 110ms/step - loss: 0.6572 - accuracy: 0.5900 - val_loss: 0.6384 - val_accuracy: 0.6467\n",
      "Epoch 17/100\n",
      "10/10 [==============================] - 1s 101ms/step - loss: 0.6504 - accuracy: 0.6100 - val_loss: 0.6326 - val_accuracy: 0.6733\n",
      "Epoch 18/100\n",
      "10/10 [==============================] - 1s 110ms/step - loss: 0.6438 - accuracy: 0.6200 - val_loss: 0.6264 - val_accuracy: 0.6867\n",
      "Epoch 19/100\n",
      "10/10 [==============================] - 1s 109ms/step - loss: 0.6372 - accuracy: 0.6383 - val_loss: 0.6205 - val_accuracy: 0.7267\n",
      "Epoch 20/100\n",
      "10/10 [==============================] - 1s 100ms/step - loss: 0.6306 - accuracy: 0.6600 - val_loss: 0.6147 - val_accuracy: 0.7400\n",
      "Epoch 21/100\n",
      "10/10 [==============================] - 1s 109ms/step - loss: 0.6237 - accuracy: 0.6833 - val_loss: 0.6080 - val_accuracy: 0.7467\n",
      "Epoch 22/100\n",
      "10/10 [==============================] - 1s 100ms/step - loss: 0.6163 - accuracy: 0.7117 - val_loss: 0.6030 - val_accuracy: 0.7600\n",
      "Epoch 23/100\n",
      "10/10 [==============================] - 1s 109ms/step - loss: 0.6092 - accuracy: 0.7283 - val_loss: 0.5958 - val_accuracy: 0.7733\n",
      "Epoch 24/100\n",
      "10/10 [==============================] - 1s 101ms/step - loss: 0.6012 - accuracy: 0.7383 - val_loss: 0.5887 - val_accuracy: 0.7800\n",
      "Epoch 25/100\n",
      "10/10 [==============================] - 1s 100ms/step - loss: 0.5932 - accuracy: 0.7450 - val_loss: 0.5819 - val_accuracy: 0.7800\n",
      "Epoch 26/100\n",
      "10/10 [==============================] - 1s 109ms/step - loss: 0.5849 - accuracy: 0.7550 - val_loss: 0.5749 - val_accuracy: 0.7667\n",
      "Epoch 27/100\n",
      "10/10 [==============================] - 1s 110ms/step - loss: 0.5764 - accuracy: 0.7567 - val_loss: 0.5663 - val_accuracy: 0.7800\n",
      "Epoch 28/100\n",
      "10/10 [==============================] - 1s 101ms/step - loss: 0.5669 - accuracy: 0.7650 - val_loss: 0.5590 - val_accuracy: 0.7800\n",
      "Epoch 29/100\n",
      "10/10 [==============================] - 1s 100ms/step - loss: 0.5563 - accuracy: 0.7750 - val_loss: 0.5530 - val_accuracy: 0.7733\n",
      "Epoch 30/100\n",
      "10/10 [==============================] - 1s 100ms/step - loss: 0.5452 - accuracy: 0.7767 - val_loss: 0.5465 - val_accuracy: 0.7733\n",
      "Epoch 31/100\n",
      "10/10 [==============================] - 1s 100ms/step - loss: 0.5343 - accuracy: 0.7767 - val_loss: 0.5385 - val_accuracy: 0.7733\n",
      "Epoch 32/100\n",
      "10/10 [==============================] - 1s 101ms/step - loss: 0.5234 - accuracy: 0.7917 - val_loss: 0.5312 - val_accuracy: 0.7867\n",
      "Epoch 33/100\n",
      "10/10 [==============================] - 1s 110ms/step - loss: 0.5134 - accuracy: 0.8017 - val_loss: 0.5241 - val_accuracy: 0.7800\n",
      "Epoch 34/100\n",
      "10/10 [==============================] - 1s 100ms/step - loss: 0.5039 - accuracy: 0.8067 - val_loss: 0.5170 - val_accuracy: 0.7867\n",
      "Epoch 35/100\n",
      "10/10 [==============================] - 1s 100ms/step - loss: 0.4949 - accuracy: 0.8050 - val_loss: 0.5111 - val_accuracy: 0.7800\n",
      "Epoch 36/100\n",
      "10/10 [==============================] - 1s 109ms/step - loss: 0.4866 - accuracy: 0.8083 - val_loss: 0.5061 - val_accuracy: 0.7800\n",
      "Epoch 37/100\n",
      "10/10 [==============================] - 1s 101ms/step - loss: 0.4785 - accuracy: 0.8067 - val_loss: 0.5024 - val_accuracy: 0.7733\n",
      "Epoch 38/100\n",
      "10/10 [==============================] - 1s 101ms/step - loss: 0.4706 - accuracy: 0.8100 - val_loss: 0.4984 - val_accuracy: 0.7733\n",
      "Epoch 39/100\n",
      "10/10 [==============================] - 1s 109ms/step - loss: 0.4630 - accuracy: 0.8117 - val_loss: 0.4923 - val_accuracy: 0.7733\n",
      "Epoch 40/100\n",
      "10/10 [==============================] - 1s 101ms/step - loss: 0.4560 - accuracy: 0.8100 - val_loss: 0.4879 - val_accuracy: 0.7800\n",
      "Epoch 41/100\n",
      "10/10 [==============================] - 1s 100ms/step - loss: 0.4498 - accuracy: 0.8167 - val_loss: 0.4844 - val_accuracy: 0.7733\n",
      "Epoch 42/100\n",
      "10/10 [==============================] - 1s 110ms/step - loss: 0.4439 - accuracy: 0.8250 - val_loss: 0.4804 - val_accuracy: 0.7733\n",
      "Epoch 43/100\n",
      "10/10 [==============================] - 1s 101ms/step - loss: 0.4382 - accuracy: 0.8300 - val_loss: 0.4774 - val_accuracy: 0.7733\n",
      "Epoch 44/100\n",
      "10/10 [==============================] - 1s 100ms/step - loss: 0.4330 - accuracy: 0.8333 - val_loss: 0.4743 - val_accuracy: 0.7867\n",
      "Epoch 45/100\n",
      "10/10 [==============================] - 1s 110ms/step - loss: 0.4279 - accuracy: 0.8333 - val_loss: 0.4713 - val_accuracy: 0.7867\n",
      "Epoch 46/100\n",
      "10/10 [==============================] - 1s 109ms/step - loss: 0.4231 - accuracy: 0.8367 - val_loss: 0.4687 - val_accuracy: 0.7867\n",
      "Epoch 47/100\n",
      "10/10 [==============================] - 1s 101ms/step - loss: 0.4183 - accuracy: 0.8367 - val_loss: 0.4657 - val_accuracy: 0.7867\n",
      "Epoch 48/100\n",
      "10/10 [==============================] - 1s 100ms/step - loss: 0.4138 - accuracy: 0.8433 - val_loss: 0.4624 - val_accuracy: 0.7933\n",
      "Epoch 49/100\n",
      "10/10 [==============================] - 1s 110ms/step - loss: 0.4092 - accuracy: 0.8400 - val_loss: 0.4591 - val_accuracy: 0.8000\n",
      "Epoch 50/100\n",
      "10/10 [==============================] - 1s 100ms/step - loss: 0.4049 - accuracy: 0.8400 - val_loss: 0.4572 - val_accuracy: 0.8000\n",
      "Epoch 51/100\n",
      "10/10 [==============================] - 1s 109ms/step - loss: 0.4011 - accuracy: 0.8417 - val_loss: 0.4546 - val_accuracy: 0.8000\n",
      "Epoch 52/100\n",
      "10/10 [==============================] - 1s 100ms/step - loss: 0.3971 - accuracy: 0.8417 - val_loss: 0.4525 - val_accuracy: 0.7933\n",
      "Epoch 53/100\n",
      "10/10 [==============================] - 1s 110ms/step - loss: 0.3935 - accuracy: 0.8417 - val_loss: 0.4501 - val_accuracy: 0.8000\n",
      "Epoch 54/100\n",
      "10/10 [==============================] - 1s 101ms/step - loss: 0.3899 - accuracy: 0.8433 - val_loss: 0.4487 - val_accuracy: 0.8000\n",
      "Epoch 55/100\n",
      "10/10 [==============================] - 1s 100ms/step - loss: 0.3865 - accuracy: 0.8450 - val_loss: 0.4459 - val_accuracy: 0.8067\n",
      "Epoch 56/100\n",
      "10/10 [==============================] - 1s 100ms/step - loss: 0.3830 - accuracy: 0.8500 - val_loss: 0.4438 - val_accuracy: 0.8133\n",
      "Epoch 57/100\n",
      "10/10 [==============================] - 1s 100ms/step - loss: 0.3799 - accuracy: 0.8500 - val_loss: 0.4427 - val_accuracy: 0.8200\n"
     ]
    },
    {
     "name": "stdout",
     "output_type": "stream",
     "text": [
      "Epoch 58/100\n",
      "10/10 [==============================] - 1s 110ms/step - loss: 0.3770 - accuracy: 0.8467 - val_loss: 0.4403 - val_accuracy: 0.8267\n",
      "Epoch 59/100\n",
      "10/10 [==============================] - 1s 100ms/step - loss: 0.3739 - accuracy: 0.8483 - val_loss: 0.4386 - val_accuracy: 0.8267\n",
      "Epoch 60/100\n",
      "10/10 [==============================] - 1s 100ms/step - loss: 0.3712 - accuracy: 0.8483 - val_loss: 0.4379 - val_accuracy: 0.8267\n",
      "Epoch 61/100\n",
      "10/10 [==============================] - 1s 109ms/step - loss: 0.3685 - accuracy: 0.8517 - val_loss: 0.4352 - val_accuracy: 0.8267\n",
      "Epoch 62/100\n",
      "10/10 [==============================] - 1s 100ms/step - loss: 0.3656 - accuracy: 0.8483 - val_loss: 0.4333 - val_accuracy: 0.8333\n",
      "Epoch 63/100\n",
      "10/10 [==============================] - 1s 110ms/step - loss: 0.3630 - accuracy: 0.8500 - val_loss: 0.4326 - val_accuracy: 0.8333\n",
      "Epoch 64/100\n",
      "10/10 [==============================] - 1s 109ms/step - loss: 0.3607 - accuracy: 0.8533 - val_loss: 0.4308 - val_accuracy: 0.8400\n",
      "Epoch 65/100\n",
      "10/10 [==============================] - 1s 101ms/step - loss: 0.3581 - accuracy: 0.8533 - val_loss: 0.4295 - val_accuracy: 0.8400\n",
      "Epoch 66/100\n",
      "10/10 [==============================] - 1s 100ms/step - loss: 0.3558 - accuracy: 0.8550 - val_loss: 0.4280 - val_accuracy: 0.8400\n",
      "Epoch 67/100\n",
      "10/10 [==============================] - 1s 109ms/step - loss: 0.3533 - accuracy: 0.8550 - val_loss: 0.4258 - val_accuracy: 0.8400\n",
      "Epoch 68/100\n",
      "10/10 [==============================] - 1s 100ms/step - loss: 0.3509 - accuracy: 0.8550 - val_loss: 0.4240 - val_accuracy: 0.8400\n",
      "Epoch 69/100\n",
      "10/10 [==============================] - 1s 110ms/step - loss: 0.3486 - accuracy: 0.8583 - val_loss: 0.4226 - val_accuracy: 0.8400\n",
      "Epoch 70/100\n",
      "10/10 [==============================] - 1s 100ms/step - loss: 0.3464 - accuracy: 0.8567 - val_loss: 0.4211 - val_accuracy: 0.8400\n",
      "Epoch 71/100\n",
      "10/10 [==============================] - 1s 100ms/step - loss: 0.3443 - accuracy: 0.8567 - val_loss: 0.4201 - val_accuracy: 0.8400\n",
      "Epoch 72/100\n",
      "10/10 [==============================] - 1s 110ms/step - loss: 0.3422 - accuracy: 0.8600 - val_loss: 0.4186 - val_accuracy: 0.8400\n",
      "Epoch 73/100\n",
      "10/10 [==============================] - 1s 109ms/step - loss: 0.3403 - accuracy: 0.8600 - val_loss: 0.4175 - val_accuracy: 0.8400\n",
      "Epoch 74/100\n",
      "10/10 [==============================] - 1s 100ms/step - loss: 0.3383 - accuracy: 0.8600 - val_loss: 0.4164 - val_accuracy: 0.8400\n",
      "Epoch 75/100\n",
      "10/10 [==============================] - 1s 100ms/step - loss: 0.3363 - accuracy: 0.8600 - val_loss: 0.4146 - val_accuracy: 0.8400\n",
      "Epoch 76/100\n",
      "10/10 [==============================] - 1s 110ms/step - loss: 0.3343 - accuracy: 0.8617 - val_loss: 0.4133 - val_accuracy: 0.8400\n",
      "Epoch 77/100\n",
      "10/10 [==============================] - 1s 109ms/step - loss: 0.3324 - accuracy: 0.8600 - val_loss: 0.4120 - val_accuracy: 0.8400\n",
      "Epoch 78/100\n",
      "10/10 [==============================] - 1s 101ms/step - loss: 0.3304 - accuracy: 0.8617 - val_loss: 0.4106 - val_accuracy: 0.8400\n",
      "Epoch 79/100\n",
      "10/10 [==============================] - 1s 110ms/step - loss: 0.3286 - accuracy: 0.8617 - val_loss: 0.4090 - val_accuracy: 0.8467\n",
      "Epoch 80/100\n",
      "10/10 [==============================] - 1s 101ms/step - loss: 0.3267 - accuracy: 0.8617 - val_loss: 0.4080 - val_accuracy: 0.8467\n",
      "Epoch 81/100\n",
      "10/10 [==============================] - 1s 110ms/step - loss: 0.3250 - accuracy: 0.8617 - val_loss: 0.4065 - val_accuracy: 0.8467\n",
      "Epoch 82/100\n",
      "10/10 [==============================] - 1s 100ms/step - loss: 0.3232 - accuracy: 0.8617 - val_loss: 0.4050 - val_accuracy: 0.8467\n",
      "Epoch 83/100\n",
      "10/10 [==============================] - 1s 101ms/step - loss: 0.3214 - accuracy: 0.8600 - val_loss: 0.4036 - val_accuracy: 0.8467\n",
      "Epoch 84/100\n",
      "10/10 [==============================] - 1s 100ms/step - loss: 0.3196 - accuracy: 0.8583 - val_loss: 0.4020 - val_accuracy: 0.8467\n",
      "Epoch 85/100\n",
      "10/10 [==============================] - 1s 101ms/step - loss: 0.3178 - accuracy: 0.8583 - val_loss: 0.4011 - val_accuracy: 0.8467\n",
      "Epoch 86/100\n",
      "10/10 [==============================] - 1s 110ms/step - loss: 0.3161 - accuracy: 0.8617 - val_loss: 0.3991 - val_accuracy: 0.8467\n",
      "Epoch 87/100\n",
      "10/10 [==============================] - 1s 109ms/step - loss: 0.3142 - accuracy: 0.8650 - val_loss: 0.3976 - val_accuracy: 0.8467\n",
      "Epoch 88/100\n",
      "10/10 [==============================] - 1s 100ms/step - loss: 0.3125 - accuracy: 0.8667 - val_loss: 0.3969 - val_accuracy: 0.8467\n",
      "Epoch 89/100\n",
      "10/10 [==============================] - 1s 109ms/step - loss: 0.3110 - accuracy: 0.8650 - val_loss: 0.3953 - val_accuracy: 0.8400\n",
      "Epoch 90/100\n",
      "10/10 [==============================] - 1s 110ms/step - loss: 0.3093 - accuracy: 0.8667 - val_loss: 0.3941 - val_accuracy: 0.8400\n",
      "Epoch 91/100\n",
      "10/10 [==============================] - 1s 100ms/step - loss: 0.3078 - accuracy: 0.8683 - val_loss: 0.3934 - val_accuracy: 0.8400\n",
      "Epoch 92/100\n",
      "10/10 [==============================] - 1s 110ms/step - loss: 0.3062 - accuracy: 0.8733 - val_loss: 0.3913 - val_accuracy: 0.8400\n",
      "Epoch 93/100\n",
      "10/10 [==============================] - 1s 101ms/step - loss: 0.3044 - accuracy: 0.8750 - val_loss: 0.3899 - val_accuracy: 0.8400\n",
      "Epoch 94/100\n",
      "10/10 [==============================] - 1s 100ms/step - loss: 0.3028 - accuracy: 0.8767 - val_loss: 0.3891 - val_accuracy: 0.8400\n",
      "Epoch 95/100\n",
      "10/10 [==============================] - 1s 109ms/step - loss: 0.3013 - accuracy: 0.8767 - val_loss: 0.3872 - val_accuracy: 0.8400\n",
      "Epoch 96/100\n",
      "10/10 [==============================] - 1s 101ms/step - loss: 0.2998 - accuracy: 0.8767 - val_loss: 0.3861 - val_accuracy: 0.8400\n",
      "Epoch 97/100\n",
      "10/10 [==============================] - 1s 100ms/step - loss: 0.2982 - accuracy: 0.8767 - val_loss: 0.3851 - val_accuracy: 0.8400\n",
      "Epoch 98/100\n",
      "10/10 [==============================] - 1s 101ms/step - loss: 0.2968 - accuracy: 0.8767 - val_loss: 0.3842 - val_accuracy: 0.8400\n",
      "Epoch 99/100\n",
      "10/10 [==============================] - 1s 100ms/step - loss: 0.2952 - accuracy: 0.8783 - val_loss: 0.3824 - val_accuracy: 0.8400\n",
      "Epoch 100/100\n",
      "10/10 [==============================] - 1s 100ms/step - loss: 0.2936 - accuracy: 0.8800 - val_loss: 0.3814 - val_accuracy: 0.8400\n"
     ]
    }
   ],
   "source": [
    "train_dataset = tf.data.Dataset.from_tensor_slices((X_train, Y_train)).batch(64)\n",
    "test_dataset = tf.data.Dataset.from_tensor_slices((X_test, Y_test)).batch(64)\n",
    "history = conv_model.fit(train_dataset, epochs=100, validation_data=test_dataset)"
   ]
  },
  {
   "cell_type": "markdown",
   "metadata": {},
   "source": [
    "<a name='5'></a>\n",
    "## 5 - History Object \n",
    "\n",
    "The history object is an output of the `.fit()` operation, and provides a record of all the loss and metric values in memory. It's stored as a dictionary that you can retrieve at `history.history`: "
   ]
  },
  {
   "cell_type": "code",
   "execution_count": 93,
   "metadata": {},
   "outputs": [
    {
     "data": {
      "text/plain": [
       "{'loss': [3.4937500953674316,\n",
       "  2.1146748065948486,\n",
       "  1.477839708328247,\n",
       "  1.1201059818267822,\n",
       "  0.8832820653915405,\n",
       "  0.7430762052536011,\n",
       "  0.7082358002662659,\n",
       "  0.6983747482299805,\n",
       "  0.6902037262916565,\n",
       "  0.6850382089614868,\n",
       "  0.6815095543861389,\n",
       "  0.6769738793373108,\n",
       "  0.6728389263153076,\n",
       "  0.6682820916175842,\n",
       "  0.6629797220230103,\n",
       "  0.6571980118751526,\n",
       "  0.6503702998161316,\n",
       "  0.6438288688659668,\n",
       "  0.6372464299201965,\n",
       "  0.6305533051490784,\n",
       "  0.6236518025398254,\n",
       "  0.6163015961647034,\n",
       "  0.6092264652252197,\n",
       "  0.6012457013130188,\n",
       "  0.593178927898407,\n",
       "  0.584909975528717,\n",
       "  0.5763976573944092,\n",
       "  0.566871702671051,\n",
       "  0.5562740564346313,\n",
       "  0.5452309846878052,\n",
       "  0.5342918634414673,\n",
       "  0.523385763168335,\n",
       "  0.5133715867996216,\n",
       "  0.5039473176002502,\n",
       "  0.4949416220188141,\n",
       "  0.48662126064300537,\n",
       "  0.47845515608787537,\n",
       "  0.4705827236175537,\n",
       "  0.4629940390586853,\n",
       "  0.4560089707374573,\n",
       "  0.4498177170753479,\n",
       "  0.4438742995262146,\n",
       "  0.43817952275276184,\n",
       "  0.43297022581100464,\n",
       "  0.42786291241645813,\n",
       "  0.4230813980102539,\n",
       "  0.41834697127342224,\n",
       "  0.4137569069862366,\n",
       "  0.40920811891555786,\n",
       "  0.4049067199230194,\n",
       "  0.4010694921016693,\n",
       "  0.397126704454422,\n",
       "  0.3934650123119354,\n",
       "  0.38986942172050476,\n",
       "  0.38653695583343506,\n",
       "  0.3829871118068695,\n",
       "  0.37989386916160583,\n",
       "  0.3769672214984894,\n",
       "  0.37391164898872375,\n",
       "  0.37119805812835693,\n",
       "  0.36849790811538696,\n",
       "  0.3656174838542938,\n",
       "  0.3630046844482422,\n",
       "  0.36071982979774475,\n",
       "  0.35814163088798523,\n",
       "  0.3558424115180969,\n",
       "  0.35332465171813965,\n",
       "  0.3508780598640442,\n",
       "  0.34856274724006653,\n",
       "  0.3464130163192749,\n",
       "  0.3443002998828888,\n",
       "  0.34224969148635864,\n",
       "  0.3402920067310333,\n",
       "  0.3383142352104187,\n",
       "  0.33625489473342896,\n",
       "  0.3342552185058594,\n",
       "  0.3323526084423065,\n",
       "  0.3304484188556671,\n",
       "  0.32857465744018555,\n",
       "  0.32671841979026794,\n",
       "  0.3250376880168915,\n",
       "  0.32320839166641235,\n",
       "  0.3213675022125244,\n",
       "  0.3195817172527313,\n",
       "  0.3178141117095947,\n",
       "  0.31606683135032654,\n",
       "  0.31422993540763855,\n",
       "  0.31253933906555176,\n",
       "  0.31097495555877686,\n",
       "  0.30931195616722107,\n",
       "  0.3077693283557892,\n",
       "  0.30621060729026794,\n",
       "  0.3044050633907318,\n",
       "  0.30280882120132446,\n",
       "  0.3012997806072235,\n",
       "  0.2997766137123108,\n",
       "  0.2982471287250519,\n",
       "  0.29680392146110535,\n",
       "  0.2951865792274475,\n",
       "  0.29358673095703125],\n",
       " 'accuracy': [0.0,\n",
       "  0.0,\n",
       "  0.2800000011920929,\n",
       "  0.5,\n",
       "  0.5,\n",
       "  0.5233333110809326,\n",
       "  0.4833333194255829,\n",
       "  0.503333330154419,\n",
       "  0.54666668176651,\n",
       "  0.5266666412353516,\n",
       "  0.5400000214576721,\n",
       "  0.5583333373069763,\n",
       "  0.5566666722297668,\n",
       "  0.5766666531562805,\n",
       "  0.5833333134651184,\n",
       "  0.5899999737739563,\n",
       "  0.6100000143051147,\n",
       "  0.6200000047683716,\n",
       "  0.6383333206176758,\n",
       "  0.6600000262260437,\n",
       "  0.6833333373069763,\n",
       "  0.7116666436195374,\n",
       "  0.7283333539962769,\n",
       "  0.7383333444595337,\n",
       "  0.7450000047683716,\n",
       "  0.7549999952316284,\n",
       "  0.7566666603088379,\n",
       "  0.7649999856948853,\n",
       "  0.7749999761581421,\n",
       "  0.7766666412353516,\n",
       "  0.7766666412353516,\n",
       "  0.7916666865348816,\n",
       "  0.8016666769981384,\n",
       "  0.8066666722297668,\n",
       "  0.8050000071525574,\n",
       "  0.8083333373069763,\n",
       "  0.8066666722297668,\n",
       "  0.8100000023841858,\n",
       "  0.8116666674613953,\n",
       "  0.8100000023841858,\n",
       "  0.8166666626930237,\n",
       "  0.824999988079071,\n",
       "  0.8299999833106995,\n",
       "  0.8333333134651184,\n",
       "  0.8333333134651184,\n",
       "  0.8366666436195374,\n",
       "  0.8366666436195374,\n",
       "  0.8433333039283752,\n",
       "  0.8399999737739563,\n",
       "  0.8399999737739563,\n",
       "  0.8416666388511658,\n",
       "  0.8416666388511658,\n",
       "  0.8416666388511658,\n",
       "  0.8433333039283752,\n",
       "  0.8450000286102295,\n",
       "  0.8500000238418579,\n",
       "  0.8500000238418579,\n",
       "  0.846666693687439,\n",
       "  0.8483333587646484,\n",
       "  0.8483333587646484,\n",
       "  0.8516666889190674,\n",
       "  0.8483333587646484,\n",
       "  0.8500000238418579,\n",
       "  0.8533333539962769,\n",
       "  0.8533333539962769,\n",
       "  0.8550000190734863,\n",
       "  0.8550000190734863,\n",
       "  0.8550000190734863,\n",
       "  0.8583333492279053,\n",
       "  0.8566666841506958,\n",
       "  0.8566666841506958,\n",
       "  0.8600000143051147,\n",
       "  0.8600000143051147,\n",
       "  0.8600000143051147,\n",
       "  0.8600000143051147,\n",
       "  0.8616666793823242,\n",
       "  0.8600000143051147,\n",
       "  0.8616666793823242,\n",
       "  0.8616666793823242,\n",
       "  0.8616666793823242,\n",
       "  0.8616666793823242,\n",
       "  0.8616666793823242,\n",
       "  0.8600000143051147,\n",
       "  0.8583333492279053,\n",
       "  0.8583333492279053,\n",
       "  0.8616666793823242,\n",
       "  0.8650000095367432,\n",
       "  0.8666666746139526,\n",
       "  0.8650000095367432,\n",
       "  0.8666666746139526,\n",
       "  0.8683333396911621,\n",
       "  0.8733333349227905,\n",
       "  0.875,\n",
       "  0.8766666650772095,\n",
       "  0.8766666650772095,\n",
       "  0.8766666650772095,\n",
       "  0.8766666650772095,\n",
       "  0.8766666650772095,\n",
       "  0.878333330154419,\n",
       "  0.8799999952316284],\n",
       " 'val_loss': [2.487391233444214,\n",
       "  1.6564685106277466,\n",
       "  1.221511721611023,\n",
       "  0.9273218512535095,\n",
       "  0.7521731853485107,\n",
       "  0.7035685181617737,\n",
       "  0.694329559803009,\n",
       "  0.671344518661499,\n",
       "  0.6687088012695312,\n",
       "  0.6660783290863037,\n",
       "  0.6596823930740356,\n",
       "  0.6575219631195068,\n",
       "  0.6538479924201965,\n",
       "  0.6496804356575012,\n",
       "  0.6448931097984314,\n",
       "  0.638352632522583,\n",
       "  0.6326335668563843,\n",
       "  0.626406729221344,\n",
       "  0.6205177307128906,\n",
       "  0.6146773099899292,\n",
       "  0.6080189943313599,\n",
       "  0.6030477285385132,\n",
       "  0.5957664847373962,\n",
       "  0.5887072682380676,\n",
       "  0.5818906426429749,\n",
       "  0.5748851299285889,\n",
       "  0.566322386264801,\n",
       "  0.5589559078216553,\n",
       "  0.5529975295066833,\n",
       "  0.5464999675750732,\n",
       "  0.5385252833366394,\n",
       "  0.5311905741691589,\n",
       "  0.524115264415741,\n",
       "  0.5169656872749329,\n",
       "  0.5111320614814758,\n",
       "  0.5061219334602356,\n",
       "  0.5024317502975464,\n",
       "  0.49840933084487915,\n",
       "  0.49233028292655945,\n",
       "  0.48789429664611816,\n",
       "  0.48441603779792786,\n",
       "  0.48036620020866394,\n",
       "  0.4773704409599304,\n",
       "  0.47428756952285767,\n",
       "  0.4713399112224579,\n",
       "  0.468734472990036,\n",
       "  0.46567198634147644,\n",
       "  0.4623537063598633,\n",
       "  0.4590729773044586,\n",
       "  0.4571501612663269,\n",
       "  0.45459309220314026,\n",
       "  0.4524930715560913,\n",
       "  0.4501085877418518,\n",
       "  0.44872018694877625,\n",
       "  0.445872962474823,\n",
       "  0.44381606578826904,\n",
       "  0.4427039623260498,\n",
       "  0.4402726888656616,\n",
       "  0.43860891461372375,\n",
       "  0.4379400610923767,\n",
       "  0.43520018458366394,\n",
       "  0.4333495497703552,\n",
       "  0.43256551027297974,\n",
       "  0.43081435561180115,\n",
       "  0.4294692575931549,\n",
       "  0.42795562744140625,\n",
       "  0.4258180856704712,\n",
       "  0.4240371584892273,\n",
       "  0.4226437509059906,\n",
       "  0.42109939455986023,\n",
       "  0.4200993776321411,\n",
       "  0.41859930753707886,\n",
       "  0.4175187647342682,\n",
       "  0.416390061378479,\n",
       "  0.41459280252456665,\n",
       "  0.41331279277801514,\n",
       "  0.4119969308376312,\n",
       "  0.41064968705177307,\n",
       "  0.4090198874473572,\n",
       "  0.40801113843917847,\n",
       "  0.40646976232528687,\n",
       "  0.40498051047325134,\n",
       "  0.4036415219306946,\n",
       "  0.40197646617889404,\n",
       "  0.40106400847435,\n",
       "  0.3990647494792938,\n",
       "  0.39761191606521606,\n",
       "  0.3968947231769562,\n",
       "  0.3952949643135071,\n",
       "  0.39411062002182007,\n",
       "  0.39335137605667114,\n",
       "  0.39133524894714355,\n",
       "  0.3898923695087433,\n",
       "  0.3891209661960602,\n",
       "  0.3872157633304596,\n",
       "  0.3861102759838104,\n",
       "  0.38508209586143494,\n",
       "  0.3842146694660187,\n",
       "  0.3823555111885071,\n",
       "  0.3813619315624237],\n",
       " 'val_accuracy': [0.0,\n",
       "  0.0,\n",
       "  0.5600000023841858,\n",
       "  0.5600000023841858,\n",
       "  0.5600000023841858,\n",
       "  0.6066666841506958,\n",
       "  0.5066666603088379,\n",
       "  0.6466666460037231,\n",
       "  0.6066666841506958,\n",
       "  0.6000000238418579,\n",
       "  0.6200000047683716,\n",
       "  0.6266666650772095,\n",
       "  0.6399999856948853,\n",
       "  0.6399999856948853,\n",
       "  0.6399999856948853,\n",
       "  0.6466666460037231,\n",
       "  0.6733333468437195,\n",
       "  0.6866666674613953,\n",
       "  0.7266666889190674,\n",
       "  0.7400000095367432,\n",
       "  0.746666669845581,\n",
       "  0.7599999904632568,\n",
       "  0.7733333110809326,\n",
       "  0.7799999713897705,\n",
       "  0.7799999713897705,\n",
       "  0.7666666507720947,\n",
       "  0.7799999713897705,\n",
       "  0.7799999713897705,\n",
       "  0.7733333110809326,\n",
       "  0.7733333110809326,\n",
       "  0.7733333110809326,\n",
       "  0.7866666913032532,\n",
       "  0.7799999713897705,\n",
       "  0.7866666913032532,\n",
       "  0.7799999713897705,\n",
       "  0.7799999713897705,\n",
       "  0.7733333110809326,\n",
       "  0.7733333110809326,\n",
       "  0.7733333110809326,\n",
       "  0.7799999713897705,\n",
       "  0.7733333110809326,\n",
       "  0.7733333110809326,\n",
       "  0.7733333110809326,\n",
       "  0.7866666913032532,\n",
       "  0.7866666913032532,\n",
       "  0.7866666913032532,\n",
       "  0.7866666913032532,\n",
       "  0.7933333516120911,\n",
       "  0.800000011920929,\n",
       "  0.800000011920929,\n",
       "  0.800000011920929,\n",
       "  0.7933333516120911,\n",
       "  0.800000011920929,\n",
       "  0.800000011920929,\n",
       "  0.8066666722297668,\n",
       "  0.8133333325386047,\n",
       "  0.8199999928474426,\n",
       "  0.8266666531562805,\n",
       "  0.8266666531562805,\n",
       "  0.8266666531562805,\n",
       "  0.8266666531562805,\n",
       "  0.8333333134651184,\n",
       "  0.8333333134651184,\n",
       "  0.8399999737739563,\n",
       "  0.8399999737739563,\n",
       "  0.8399999737739563,\n",
       "  0.8399999737739563,\n",
       "  0.8399999737739563,\n",
       "  0.8399999737739563,\n",
       "  0.8399999737739563,\n",
       "  0.8399999737739563,\n",
       "  0.8399999737739563,\n",
       "  0.8399999737739563,\n",
       "  0.8399999737739563,\n",
       "  0.8399999737739563,\n",
       "  0.8399999737739563,\n",
       "  0.8399999737739563,\n",
       "  0.8399999737739563,\n",
       "  0.846666693687439,\n",
       "  0.846666693687439,\n",
       "  0.846666693687439,\n",
       "  0.846666693687439,\n",
       "  0.846666693687439,\n",
       "  0.846666693687439,\n",
       "  0.846666693687439,\n",
       "  0.846666693687439,\n",
       "  0.846666693687439,\n",
       "  0.846666693687439,\n",
       "  0.8399999737739563,\n",
       "  0.8399999737739563,\n",
       "  0.8399999737739563,\n",
       "  0.8399999737739563,\n",
       "  0.8399999737739563,\n",
       "  0.8399999737739563,\n",
       "  0.8399999737739563,\n",
       "  0.8399999737739563,\n",
       "  0.8399999737739563,\n",
       "  0.8399999737739563,\n",
       "  0.8399999737739563,\n",
       "  0.8399999737739563]}"
      ]
     },
     "execution_count": 93,
     "metadata": {},
     "output_type": "execute_result"
    }
   ],
   "source": [
    "history.history"
   ]
  },
  {
   "cell_type": "markdown",
   "metadata": {},
   "source": [
    "Now visualize the loss over time using `history.history`: "
   ]
  },
  {
   "cell_type": "code",
   "execution_count": 94,
   "metadata": {},
   "outputs": [
    {
     "data": {
      "text/plain": [
       "[Text(0, 0.5, 'Accuracy'), Text(0.5, 0, 'Epoch')]"
      ]
     },
     "execution_count": 94,
     "metadata": {},
     "output_type": "execute_result"
    },
    {
     "data": {
      "image/png": "[encoded data removed]",
      "text/plain": [
       "<Figure size 864x576 with 1 Axes>"
      ]
     },
     "metadata": {
      "needs_background": "light"
     },
     "output_type": "display_data"
    },
    {
     "data": {
      "image/png": "[encoded data removed]",
      "text/plain": [
       "<Figure size 864x576 with 1 Axes>"
      ]
     },
     "metadata": {
      "needs_background": "light"
     },
     "output_type": "display_data"
    }
   ],
   "source": [
    "# The history.history[\"loss\"] entry is a dictionary with as many values as epochs that the\n",
    "# model was trained on. \n",
    "df_loss_acc = pd.DataFrame(history.history)\n",
    "df_loss= df_loss_acc[['loss','val_loss']]\n",
    "df_loss.rename(columns={'loss':'train','val_loss':'validation'},inplace=True)\n",
    "df_acc= df_loss_acc[['accuracy','val_accuracy']]\n",
    "df_acc.rename(columns={'accuracy':'train','val_accuracy':'validation'},inplace=True)\n",
    "df_loss.plot(title='Model loss',figsize=(12,8)).set(xlabel='Epoch',ylabel='Loss')\n",
    "df_acc.plot(title='Model Accuracy',figsize=(12,8)).set(xlabel='Epoch',ylabel='Accuracy')"
   ]
  },
  {
   "cell_type": "markdown",
   "metadata": {},
   "source": [
    "**Congratulations**! You've finished the assignment and built two models: One that recognizes  smiles, and another that recognizes SIGN language with almost 80% accuracy on the test set. In addition to that, you now also understand the applications of two Keras APIs: Sequential and Functional. Nicely done! \n",
    "\n",
    "By now, you know a bit about how the Functional API works and may have glimpsed the possibilities. In your next assignment, you'll really get a feel for its power when you get the opportunity to build a very deep ConvNet, using ResNets! "
   ]
  },
  {
   "cell_type": "markdown",
   "metadata": {},
   "source": [
    "<a name='6'></a>\n",
    "## 6 - Bibliography\n",
    "\n",
    "You're always encouraged to read the official documentation. To that end, you can find the docs for the Sequential and Functional APIs here: \n",
    "\n",
    "https://www.tensorflow.org/guide/keras/sequential_model\n",
    "\n",
    "https://www.tensorflow.org/guide/keras/functional"
   ]
  }
 ],
 "metadata": {
  "coursera": {
   "course_slug": "convolutional-neural-networks",
   "graded_item_id": "bwbJV",
   "launcher_item_id": "0TkXB"
  },
  "kernelspec": {
   "display_name": "Python 3",
   "language": "python",
   "name": "python3"
  },
  "language_info": {
   "codemirror_mode": {
    "name": "ipython",
    "version": 3
   },
   "file_extension": ".py",
   "mimetype": "text/x-python",
   "name": "python",
   "nbconvert_exporter": "python",
   "pygments_lexer": "ipython3",
   "version": "3.7.6"
  }
 },
 "nbformat": 4,
 "nbformat_minor": 2
}
